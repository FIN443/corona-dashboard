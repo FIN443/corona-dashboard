{
 "cells": [
  {
   "cell_type": "code",
   "execution_count": 83,
   "id": "3782d7e5",
   "metadata": {},
   "outputs": [],
   "source": [
    "import pandas as pd\n",
    "import json"
   ]
  },
  {
   "cell_type": "code",
   "execution_count": 47,
   "id": "2a404c6d",
   "metadata": {
    "scrolled": true
   },
   "outputs": [],
   "source": [
    "df = pd.read_excel(\"data/assets.xlsx\")\n",
    "title = df.columns[0]"
   ]
  },
  {
   "cell_type": "code",
   "execution_count": 44,
   "id": "965ba156",
   "metadata": {},
   "outputs": [],
   "source": [
    "df = pd.read_excel(\"data/assets.xlsx\", skiprows=[0])\n",
    "result_df = df.iloc[[-1]][['수량', '단가', '공급가액', '부가세', '합 계']].sum().reset_index(name=\"누적\")\n",
    "result_df = result_df.rename(columns={\"index\": \"조건\"})\n",
    "content_df = df[0:-1].reset_index()\n",
    "content_df = content_df.drop([\"index\"], axis=1)\n",
    "company_df = content_df.groupby(\"거래처계층그룹명\").sum()[[\"수량\", \"단가\", \"공급가액\", \"부가세\", \"합 계\"]].reset_index()"
   ]
  },
  {
   "cell_type": "code",
   "execution_count": 171,
   "id": "0663bc5e",
   "metadata": {},
   "outputs": [
    {
     "name": "stdout",
     "output_type": "stream",
     "text": [
      "거래처계층그룹명         MMPI\n",
      "수량                 41\n",
      "단가           390908.0\n",
      "공급가액        1472727.0\n",
      "부가세          127273.0\n",
      "합 계         1600000.0\n",
      "Name: 0, dtype: object\n"
     ]
    }
   ],
   "source": [
    "df = content_df.loc[content_df[\"거래처계층그룹명\"] == \"MMPI\"]\n",
    "for index, row in company_df.iterrows():\n",
    "    if row[\"거래처계층그룹명\"]==\"MMPI\":\n",
    "        print(row)"
   ]
  }
 ],
 "metadata": {
  "kernelspec": {
   "display_name": "Python 3 (ipykernel)",
   "language": "python",
   "name": "python3"
  },
  "language_info": {
   "codemirror_mode": {
    "name": "ipython",
    "version": 3
   },
   "file_extension": ".py",
   "mimetype": "text/x-python",
   "name": "python",
   "nbconvert_exporter": "python",
   "pygments_lexer": "ipython3",
   "version": "3.8.10"
  }
 },
 "nbformat": 4,
 "nbformat_minor": 5
}
